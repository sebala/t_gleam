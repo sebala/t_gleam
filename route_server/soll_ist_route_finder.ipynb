{
 "cells": [
  {
   "cell_type": "code",
   "execution_count": 1,
   "metadata": {
    "collapsed": false
   },
   "outputs": [
    {
     "data": {
      "text/html": [
       "\n",
       "    <div class=\"bk-root\">\n",
       "        <a href=\"http://bokeh.pydata.org\" target=\"_blank\" class=\"bk-logo bk-logo-small bk-logo-notebook\"></a>\n",
       "        <span id=\"a4bb1f19-990b-4f2b-98b2-39002b2d6257\">Loading BokehJS ...</span>\n",
       "    </div>"
      ]
     },
     "metadata": {},
     "output_type": "display_data"
    },
    {
     "data": {
      "application/javascript": [
       "\n",
       "(function(global) {\n",
       "  function now() {\n",
       "    return new Date();\n",
       "  }\n",
       "\n",
       "  var force = true;\n",
       "\n",
       "  if (typeof (window._bokeh_onload_callbacks) === \"undefined\" || force === true) {\n",
       "    window._bokeh_onload_callbacks = [];\n",
       "    window._bokeh_is_loading = undefined;\n",
       "  }\n",
       "\n",
       "\n",
       "  \n",
       "  if (typeof (window._bokeh_timeout) === \"undefined\" || force === true) {\n",
       "    window._bokeh_timeout = Date.now() + 5000;\n",
       "    window._bokeh_failed_load = false;\n",
       "  }\n",
       "\n",
       "  var NB_LOAD_WARNING = {'data': {'text/html':\n",
       "     \"<div style='background-color: #fdd'>\\n\"+\n",
       "     \"<p>\\n\"+\n",
       "     \"BokehJS does not appear to have successfully loaded. If loading BokehJS from CDN, this \\n\"+\n",
       "     \"may be due to a slow or bad network connection. Possible fixes:\\n\"+\n",
       "     \"</p>\\n\"+\n",
       "     \"<ul>\\n\"+\n",
       "     \"<li>re-rerun `output_notebook()` to attempt to load from CDN again, or</li>\\n\"+\n",
       "     \"<li>use INLINE resources instead, as so:</li>\\n\"+\n",
       "     \"</ul>\\n\"+\n",
       "     \"<code>\\n\"+\n",
       "     \"from bokeh.resources import INLINE\\n\"+\n",
       "     \"output_notebook(resources=INLINE)\\n\"+\n",
       "     \"</code>\\n\"+\n",
       "     \"</div>\"}};\n",
       "\n",
       "  function display_loaded() {\n",
       "    if (window.Bokeh !== undefined) {\n",
       "      var el = document.getElementById(\"a4bb1f19-990b-4f2b-98b2-39002b2d6257\");\n",
       "      el.textContent = \"BokehJS \" + Bokeh.version + \" successfully loaded.\";\n",
       "    } else if (Date.now() < window._bokeh_timeout) {\n",
       "      setTimeout(display_loaded, 100)\n",
       "    }\n",
       "  }\n",
       "\n",
       "  function run_callbacks() {\n",
       "    try {\n",
       "      window._bokeh_onload_callbacks.forEach(function(callback) { callback() });\n",
       "    }\n",
       "    finally {\n",
       "      delete window._bokeh_onload_callbacks\n",
       "    }\n",
       "    console.info(\"Bokeh: all callbacks have finished\");\n",
       "  }\n",
       "\n",
       "  function load_libs(js_urls, callback) {\n",
       "    window._bokeh_onload_callbacks.push(callback);\n",
       "    if (window._bokeh_is_loading > 0) {\n",
       "      console.log(\"Bokeh: BokehJS is being loaded, scheduling callback at\", now());\n",
       "      return null;\n",
       "    }\n",
       "    if (js_urls == null || js_urls.length === 0) {\n",
       "      run_callbacks();\n",
       "      return null;\n",
       "    }\n",
       "    console.log(\"Bokeh: BokehJS not loaded, scheduling load and callback at\", now());\n",
       "    window._bokeh_is_loading = js_urls.length;\n",
       "    for (var i = 0; i < js_urls.length; i++) {\n",
       "      var url = js_urls[i];\n",
       "      var s = document.createElement('script');\n",
       "      s.src = url;\n",
       "      s.async = false;\n",
       "      s.onreadystatechange = s.onload = function() {\n",
       "        window._bokeh_is_loading--;\n",
       "        if (window._bokeh_is_loading === 0) {\n",
       "          console.log(\"Bokeh: all BokehJS libraries loaded\");\n",
       "          run_callbacks()\n",
       "        }\n",
       "      };\n",
       "      s.onerror = function() {\n",
       "        console.warn(\"failed to load library \" + url);\n",
       "      };\n",
       "      console.log(\"Bokeh: injecting script tag for BokehJS library: \", url);\n",
       "      document.getElementsByTagName(\"head\")[0].appendChild(s);\n",
       "    }\n",
       "  };var element = document.getElementById(\"a4bb1f19-990b-4f2b-98b2-39002b2d6257\");\n",
       "  if (element == null) {\n",
       "    console.log(\"Bokeh: ERROR: autoload.js configured with elementid 'a4bb1f19-990b-4f2b-98b2-39002b2d6257' but no matching script tag was found. \")\n",
       "    return false;\n",
       "  }\n",
       "\n",
       "  var js_urls = [\"https://cdn.pydata.org/bokeh/release/bokeh-0.12.6.min.js\", \"https://cdn.pydata.org/bokeh/release/bokeh-widgets-0.12.6.min.js\"];\n",
       "\n",
       "  var inline_js = [\n",
       "    function(Bokeh) {\n",
       "      Bokeh.set_log_level(\"info\");\n",
       "    },\n",
       "    \n",
       "    function(Bokeh) {\n",
       "      \n",
       "    },\n",
       "    \n",
       "    function(Bokeh) {\n",
       "      \n",
       "      document.getElementById(\"a4bb1f19-990b-4f2b-98b2-39002b2d6257\").textContent = \"BokehJS is loading...\";\n",
       "    },\n",
       "    function(Bokeh) {\n",
       "      console.log(\"Bokeh: injecting CSS: https://cdn.pydata.org/bokeh/release/bokeh-0.12.6.min.css\");\n",
       "      Bokeh.embed.inject_css(\"https://cdn.pydata.org/bokeh/release/bokeh-0.12.6.min.css\");\n",
       "      console.log(\"Bokeh: injecting CSS: https://cdn.pydata.org/bokeh/release/bokeh-widgets-0.12.6.min.css\");\n",
       "      Bokeh.embed.inject_css(\"https://cdn.pydata.org/bokeh/release/bokeh-widgets-0.12.6.min.css\");\n",
       "    }\n",
       "  ];\n",
       "\n",
       "  function run_inline_js() {\n",
       "    \n",
       "    if ((window.Bokeh !== undefined) || (force === true)) {\n",
       "      for (var i = 0; i < inline_js.length; i++) {\n",
       "        inline_js[i](window.Bokeh);\n",
       "      }if (force === true) {\n",
       "        display_loaded();\n",
       "      }} else if (Date.now() < window._bokeh_timeout) {\n",
       "      setTimeout(run_inline_js, 100);\n",
       "    } else if (!window._bokeh_failed_load) {\n",
       "      console.log(\"Bokeh: BokehJS failed to load within specified timeout.\");\n",
       "      window._bokeh_failed_load = true;\n",
       "    } else if (force !== true) {\n",
       "      var cell = $(document.getElementById(\"a4bb1f19-990b-4f2b-98b2-39002b2d6257\")).parents('.cell').data().cell;\n",
       "      cell.output_area.append_execute_result(NB_LOAD_WARNING)\n",
       "    }\n",
       "\n",
       "  }\n",
       "\n",
       "  if (window._bokeh_is_loading === 0) {\n",
       "    console.log(\"Bokeh: BokehJS loaded, going straight to plotting\");\n",
       "    run_inline_js();\n",
       "  } else {\n",
       "    load_libs(js_urls, function() {\n",
       "      console.log(\"Bokeh: BokehJS plotting callback run at\", now());\n",
       "      run_inline_js();\n",
       "    });\n",
       "  }\n",
       "}(this));"
      ]
     },
     "metadata": {},
     "output_type": "display_data"
    }
   ],
   "source": [
    "%load_ext autoreload\n",
    "%autoreload 2\n",
    "%matplotlib inline\n",
    "%load_ext ip_linewatcher\n",
    "\n",
    "import pandas as pd\n",
    "import numpy as np\n",
    "import matplotlib\n",
    "import matplotlib.pyplot as plt\n",
    "from bokeh.io import output_notebook, show\n",
    "np.set_printoptions(suppress=True)\n",
    "output_notebook()"
   ]
  },
  {
   "cell_type": "raw",
   "metadata": {},
   "source": [
    "The first goal is to implement a very simple route finder for our trams. The route finder, which will be deployed as a service, will accept to two paramters, start_halt_id and end_halt_id, and return a lists of stops that make up the journey.\n",
    "\n",
    "In rest land, this translates to the following url:\n",
    "/find_route/{start_halt_id}/{end_halt_id}\n",
    "\n",
    "The result will look be a list of halt_ids corresponding to the journey.\n",
    "\n",
    "\n",
    "[{start_halt_id, stop_1, stop_2, ..., end_halt_id}\n",
    "\n",
    "Just to set up the game, let's draw a simple route from \"main station\" to Triemli."
   ]
  },
  {
   "cell_type": "code",
   "execution_count": 2,
   "metadata": {
    "collapsed": false
   },
   "outputs": [
    {
     "name": "stdout",
     "output_type": "stream",
     "text": [
      "time: 923 µs\n"
     ]
    }
   ],
   "source": [
    "#Draw map"
   ]
  },
  {
   "cell_type": "raw",
   "metadata": {},
   "source": [
    "But how to build this service? I'll use a very simple depth first search based on A*. There are three pieces:\n",
    "\n",
    "- a Puzzle, which takes an Actions function provided by us, a start_halt_id, and end_halt_id, and returns a Path\n",
    "\n",
    "- an Actions function, provided by us, which takes some halt_id as a paramater, and returns a list of successor \"tramstop ids\", and the journey time for that leg. For example, if I pass \"main station\" to Actions, it will return all the immeadiate successor stops, and the cost will be the time taken. The results should include \"Main Shopping Street\" and \"Swiss museum\" in the reults, but not any other stops. These results are called Paths. \n",
    "\n",
    "Since the goal is to provide a basic analysis of tram lateness, and is not to provide an accurate time table for the trams, I'll build the Actions function using the data provided by ZVV itself. Let's load it... "
   ]
  },
  {
   "cell_type": "code",
   "execution_count": 5,
   "metadata": {
    "collapsed": false,
    "scrolled": true
   },
   "outputs": [
    {
     "name": "stdout",
     "output_type": "stream",
     "text": [
      "time: 4.21 s\n"
     ]
    }
   ],
   "source": [
    "df = pd.read_csv('./data/fahrzeitensollist2017010820170114.csv')\n"
   ]
  },
  {
   "cell_type": "code",
   "execution_count": 6,
   "metadata": {
    "collapsed": false
   },
   "outputs": [
    {
     "data": {
      "text/html": [
       "<div>\n",
       "<style>\n",
       "    .dataframe thead tr:only-child th {\n",
       "        text-align: right;\n",
       "    }\n",
       "\n",
       "    .dataframe thead th {\n",
       "        text-align: left;\n",
       "    }\n",
       "\n",
       "    .dataframe tbody tr th {\n",
       "        vertical-align: top;\n",
       "    }\n",
       "</style>\n",
       "<table border=\"1\" class=\"dataframe\">\n",
       "  <thead>\n",
       "    <tr style=\"text-align: right;\">\n",
       "      <th></th>\n",
       "      <th>halt_id_von</th>\n",
       "      <th>halt_id_nach</th>\n",
       "    </tr>\n",
       "  </thead>\n",
       "  <tbody>\n",
       "    <tr>\n",
       "      <th>0</th>\n",
       "      <td>2251</td>\n",
       "      <td>1906</td>\n",
       "    </tr>\n",
       "    <tr>\n",
       "      <th>1</th>\n",
       "      <td>1306</td>\n",
       "      <td>1502</td>\n",
       "    </tr>\n",
       "    <tr>\n",
       "      <th>2</th>\n",
       "      <td>1502</td>\n",
       "      <td>2657</td>\n",
       "    </tr>\n",
       "    <tr>\n",
       "      <th>3</th>\n",
       "      <td>2228</td>\n",
       "      <td>2590</td>\n",
       "    </tr>\n",
       "    <tr>\n",
       "      <th>4</th>\n",
       "      <td>1528</td>\n",
       "      <td>2228</td>\n",
       "    </tr>\n",
       "  </tbody>\n",
       "</table>\n",
       "</div>"
      ],
      "text/plain": [
       "   halt_id_von  halt_id_nach\n",
       "0         2251          1906\n",
       "1         1306          1502\n",
       "2         1502          2657\n",
       "3         2228          2590\n",
       "4         1528          2228"
      ]
     },
     "execution_count": 6,
     "metadata": {},
     "output_type": "execute_result"
    },
    {
     "name": "stdout",
     "output_type": "stream",
     "text": [
      "time: 65.2 ms\n"
     ]
    }
   ],
   "source": [
    "df[['halt_id_von', 'halt_id_nach']].head()"
   ]
  },
  {
   "cell_type": "raw",
   "metadata": {},
   "source": [
    "Now, we just need the time taken. I'll take average \"should\" time in second of the stop to stop transition. There's are an issue with some of the data for trams around midnight; so I'll only include leg times which are less than 4 hours.\n",
    "\n",
    "It's also worth noting that the data is 300mb on disk, and pandas deals with it surprsingly well."
   ]
  },
  {
   "cell_type": "code",
   "execution_count": 7,
   "metadata": {
    "collapsed": false
   },
   "outputs": [
    {
     "data": {
      "text/plain": [
       "halt_id_von  halt_id_nach\n",
       "373          373              78.487942\n",
       "             588             110.858521\n",
       "588          373             115.506024\n",
       "             1377            142.593248\n",
       "701          2060             93.316060\n",
       "Name: journey_time, dtype: float64"
      ]
     },
     "execution_count": 7,
     "metadata": {},
     "output_type": "execute_result"
    },
    {
     "name": "stdout",
     "output_type": "stream",
     "text": [
      "time: 465 ms\n"
     ]
    }
   ],
   "source": [
    "df['journey_time'] =df['ist_an_nach1']-df['ist_an_von']\n",
    "FOUR_HOURS = 60*60*4\n",
    "filtered = df[df['journey_time']< FOUR_HOURS]\n",
    "mean_journey_times = filtered.groupby(['halt_id_von', 'halt_id_nach'])['journey_time'].mean()\n",
    "mean_journey_times.head()"
   ]
  },
  {
   "cell_type": "raw",
   "metadata": {},
   "source": [
    "Based on the mean_journey_times, let's create a dictionary containing successor stops - from_to - and a cost_dict keyed by the tuple (halt_id_von, halt_id_nach)\n",
    "\n",
    "From this, I'll wrap it to an Actions function as described above."
   ]
  },
  {
   "cell_type": "code",
   "execution_count": 9,
   "metadata": {
    "collapsed": false
   },
   "outputs": [
    {
     "name": "stdout",
     "output_type": "stream",
     "text": [
      "time: 34.3 ms\n"
     ]
    }
   ],
   "source": [
    "from collections import defaultdict\n",
    "from route_server import Action\n",
    "\n",
    "from_to = defaultdict(list)\n",
    "cost_dict = dict()\n",
    "for (halt_id_von, halt_id_nach), cost in mean_journey_times.items():\n",
    "    from_to[halt_id_von].append(halt_id_nach)\n",
    "    cost_dict[(halt_id_von, halt_id_nach)] = cost\n",
    "    \n",
    "class ActionFactory:\n",
    "    def __init__(self, path_dict, costs):\n",
    "        \"\"\"path_dict contains successors for a halt_id\n",
    "        costs contains the journey time in seconds for a leg, keyed by (from_halt_id, to_halt_id)\"\"\"\n",
    "        self.path_dict = path_dict\n",
    "        self.costs = costs\n",
    "        \n",
    "    def actions(self, path):\n",
    "        \"\"\"Return all valid paths, and costs, for the from_halt_id\"\"\"\n",
    "        result = []\n",
    "        for target in self.path_dict[path.end]:\n",
    "            action = Action(end=target, cost=self.costs[(path.end, target)])\n",
    "            result.append(action)\n",
    "        return result\n",
    "\n",
    "Actions = ActionFactory(from_to,cost_dict).actions"
   ]
  },
  {
   "cell_type": "code",
   "execution_count": 10,
   "metadata": {
    "collapsed": false
   },
   "outputs": [
    {
     "data": {
      "text/html": [
       "<div>\n",
       "<style>\n",
       "    .dataframe thead tr:only-child th {\n",
       "        text-align: right;\n",
       "    }\n",
       "\n",
       "    .dataframe thead th {\n",
       "        text-align: left;\n",
       "    }\n",
       "\n",
       "    .dataframe tbody tr th {\n",
       "        vertical-align: top;\n",
       "    }\n",
       "</style>\n",
       "<table border=\"1\" class=\"dataframe\">\n",
       "  <thead>\n",
       "    <tr style=\"text-align: right;\">\n",
       "      <th></th>\n",
       "      <th>halt_id</th>\n",
       "      <th>halt_lang</th>\n",
       "    </tr>\n",
       "  </thead>\n",
       "  <tbody>\n",
       "    <tr>\n",
       "      <th>3</th>\n",
       "      <td>588</td>\n",
       "      <td>Zürich Flughafen, Bahnhof</td>\n",
       "    </tr>\n",
       "    <tr>\n",
       "      <th>22</th>\n",
       "      <td>1308</td>\n",
       "      <td>Zürich, ETH/Universitätsspital</td>\n",
       "    </tr>\n",
       "    <tr>\n",
       "      <th>74</th>\n",
       "      <td>1535</td>\n",
       "      <td>Zürich, Albisriederplatz</td>\n",
       "    </tr>\n",
       "    <tr>\n",
       "      <th>121</th>\n",
       "      <td>1851</td>\n",
       "      <td>Zürich, Sihlcity</td>\n",
       "    </tr>\n",
       "    <tr>\n",
       "      <th>150</th>\n",
       "      <td>2008</td>\n",
       "      <td>Dübendorf, Flugplatz</td>\n",
       "    </tr>\n",
       "  </tbody>\n",
       "</table>\n",
       "</div>"
      ],
      "text/plain": [
       "     halt_id                       halt_lang\n",
       "3        588       Zürich Flughafen, Bahnhof\n",
       "22      1308  Zürich, ETH/Universitätsspital\n",
       "74      1535        Zürich, Albisriederplatz\n",
       "121     1851                Zürich, Sihlcity\n",
       "150     2008            Dübendorf, Flugplatz"
      ]
     },
     "execution_count": 10,
     "metadata": {},
     "output_type": "execute_result"
    },
    {
     "name": "stdout",
     "output_type": "stream",
     "text": [
      "time: 79.8 ms\n"
     ]
    }
   ],
   "source": [
    "stops = pd.read_csv('./data/haltestelle.csv')\n",
    "stops[['halt_id', 'halt_lang']][stops['halt_id'].isin([588, 1308, 1535, 1851,2008])]"
   ]
  },
  {
   "cell_type": "code",
   "execution_count": 11,
   "metadata": {
    "collapsed": false
   },
   "outputs": [
    {
     "data": {
      "text/html": [
       "<div style=\"width:100%;\"><div style=\"position:relative;width:100%;height:0;padding-bottom:60%;\"><iframe src=\"data:text/html;charset=utf-8;base64,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\" style=\"position:absolute;width:100%;height:100%;left:0;top:0;border:none !important;\" allowfullscreen webkitallowfullscreen mozallowfullscreen></iframe></div></div>"
      ],
      "text/plain": [
       "<folium.folium.Map at 0x7faad50cf208>"
      ]
     },
     "execution_count": 11,
     "metadata": {},
     "output_type": "execute_result"
    },
    {
     "name": "stdout",
     "output_type": "stream",
     "text": [
      "time: 647 ms\n"
     ]
    }
   ],
   "source": [
    "from route_server import Puzzle, get_coordinates\n",
    "search = Puzzle(Actions).graph_search\n",
    "airport, sihlcity = (588, 1535)\n",
    "paths = search(airport, sihlcity)\n",
    "stop_ids = [x[0] for x in paths.extract_path()]\n",
    "\n",
    "import folium\n",
    "map_osm = folium.Map(location=[47.58023, 8.522235],\n",
    "           zoom_start=10, \n",
    "                     #min_lat=46, max_lat=47.5, min_lon=8., max_lon=9,\n",
    "                     min_zoom=10)\n",
    "\n",
    "start = stop_ids[0]\n",
    "stop = stop_ids[-1]\n",
    "marker_cluster = folium.MarkerCluster().add_to(map_osm)\n",
    "long,lat = get_coordinates(start)\n",
    "folium.CircleMarker(location=[long,lat],\n",
    "                            radius=5,\n",
    "                            fill_color='blue').add_to(marker_cluster)\n",
    "\n",
    "stop = stop_ids[-1]\n",
    "marker_cluster = folium.MarkerCluster().add_to(map_osm)\n",
    "long,lat = get_coordinates(stop)\n",
    "folium.CircleMarker(location=[long,lat],\n",
    "                            radius=5,\n",
    "                            fill_color='blue').add_to(marker_cluster)\n",
    "\n",
    "for start_id, stop_id in zip(stop_ids, stop_ids[1:]):\n",
    "    try:\n",
    "        s_long, s_lag = get_coordinates(start_id)\n",
    "        e_long, e_lag = get_coordinates(stop_id)\n",
    "        folium.PolyLine([[s_long, s_lag ],[e_long, e_lag]],\n",
    "\n",
    "                        color=\"red\", weight=2.5, opacity=1).add_to(map_osm)\n",
    "    except:\n",
    "        pass\n",
    "map_osm\n",
    "    #lat, long = get_coordinates(stop_id)\n",
    "    #print(lat)"
   ]
  },
  {
   "cell_type": "raw",
   "metadata": {},
   "source": [
    "So, though the basic algorithm works there are lots of issues with the data...\n",
    "- Each stop can have multiple halt_id's\n",
    "- not all stops have GPS co-ordinates\n",
    "- ZVV internal stations (such as tram depots) are included\n",
    "- No walking distance - so even if you are a few seconds from a stop, it will recommend taking another tram/bus to get there"
   ]
  }
 ],
 "metadata": {
  "kernelspec": {
   "display_name": "jupyter3_Python_3",
   "language": "python",
   "name": "jupyter3_python_3"
  },
  "language_info": {
   "codemirror_mode": {
    "name": "ipython",
    "version": 3
   },
   "file_extension": ".py",
   "mimetype": "text/x-python",
   "name": "python",
   "nbconvert_exporter": "python",
   "pygments_lexer": "ipython3",
   "version": "3.5.2"
  }
 },
 "nbformat": 4,
 "nbformat_minor": 2
}
